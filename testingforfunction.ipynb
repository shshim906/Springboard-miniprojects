{
 "cells": [
  {
   "cell_type": "code",
   "execution_count": 1,
   "metadata": {},
   "outputs": [],
   "source": [
    "# import whatever I will need in the proceeding codes\n",
    "\n",
    "import pandas as pd;import numpy as np;from sklearn import preprocessing; import json\n",
    "\n",
    "# get ign data from the computer as pandas dataframe\n",
    "\n",
    "game_data=pd.read_csv('C:/Users/shshi/Desktop/Capstone 1/DATA/ign.csv/ign.csv',index_col=0,parse_dates=True)\n",
    "\n",
    "gamedf=pd.DataFrame(data=game_data)\n"
   ]
  },
  {
   "cell_type": "code",
   "execution_count": null,
   "metadata": {},
   "outputs": [],
   "source": [
    "def make_numeric(df,column):\n",
    "    ### takes dataframe and column number as argument and change the items of the column\n",
    "    ### to numeric values\n",
    "    ### What each number stands for will be returned as le class\n",
    "    column_list=list(df.iloc[:,column])\n",
    "    le=preprocessing.LabelEncoder()\n",
    "    le.fit(column_list)\n",
    "    new_column=le"
   ]
  }
 ],
 "metadata": {
  "kernelspec": {
   "display_name": "Python 3",
   "language": "python",
   "name": "python3"
  },
  "language_info": {
   "codemirror_mode": {
    "name": "ipython",
    "version": 3
   },
   "file_extension": ".py",
   "mimetype": "text/x-python",
   "name": "python",
   "nbconvert_exporter": "python",
   "pygments_lexer": "ipython3",
   "version": "3.6.4"
  }
 },
 "nbformat": 4,
 "nbformat_minor": 2
}
